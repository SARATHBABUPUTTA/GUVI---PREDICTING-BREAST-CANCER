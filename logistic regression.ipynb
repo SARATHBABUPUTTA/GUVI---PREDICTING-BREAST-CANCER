{
 "cells": [
  {
   "cell_type": "code",
   "execution_count": 2,
   "id": "da67dcce-e13b-4859-9255-115cbfb73a19",
   "metadata": {},
   "outputs": [],
   "source": [
    "import pandas as pd\n",
    "df1=pd.read_csv(\"D:\\\\YENEPOYA - MANGALORE//yen-1234.csv\")"
   ]
  },
  {
   "cell_type": "code",
   "execution_count": 3,
   "id": "427ce23d-f387-40f2-9f7a-1480147eb47f",
   "metadata": {},
   "outputs": [],
   "source": [
    "df2=df1.iloc[0:51,:]"
   ]
  },
  {
   "cell_type": "code",
   "execution_count": 4,
   "id": "0f7e8772-e0bf-4933-9174-39e21cb3421e",
   "metadata": {},
   "outputs": [
    {
     "data": {
      "text/html": [
       "<div>\n",
       "<style scoped>\n",
       "    .dataframe tbody tr th:only-of-type {\n",
       "        vertical-align: middle;\n",
       "    }\n",
       "\n",
       "    .dataframe tbody tr th {\n",
       "        vertical-align: top;\n",
       "    }\n",
       "\n",
       "    .dataframe thead th {\n",
       "        text-align: right;\n",
       "    }\n",
       "</style>\n",
       "<table border=\"1\" class=\"dataframe\">\n",
       "  <thead>\n",
       "    <tr style=\"text-align: right;\">\n",
       "      <th></th>\n",
       "      <th>timestamp</th>\n",
       "      <th>household_id</th>\n",
       "      <th>household_size</th>\n",
       "      <th>smart_meter</th>\n",
       "      <th>tariff_per_kwh_usd</th>\n",
       "      <th>appliance</th>\n",
       "      <th>power_watts</th>\n",
       "      <th>voltage_v</th>\n",
       "      <th>current_a</th>\n",
       "      <th>duration_minutes</th>\n",
       "      <th>...</th>\n",
       "      <th>cost_usd</th>\n",
       "      <th>room_temp_c</th>\n",
       "      <th>outside_temp_c</th>\n",
       "      <th>occupancy_count</th>\n",
       "      <th>day_of_week</th>\n",
       "      <th>is_weekend</th>\n",
       "      <th>season</th>\n",
       "      <th>holiday_flag</th>\n",
       "      <th>date</th>\n",
       "      <th>daily_cumulative_kwh</th>\n",
       "    </tr>\n",
       "  </thead>\n",
       "  <tbody>\n",
       "    <tr>\n",
       "      <th>0</th>\n",
       "      <td>01-01-2024 02:00</td>\n",
       "      <td>H0126</td>\n",
       "      <td>5</td>\n",
       "      <td>1</td>\n",
       "      <td>0.15</td>\n",
       "      <td>microwave</td>\n",
       "      <td>1232.5</td>\n",
       "      <td>229.3</td>\n",
       "      <td>5.37</td>\n",
       "      <td>73</td>\n",
       "      <td>...</td>\n",
       "      <td>0.2249</td>\n",
       "      <td>25.7</td>\n",
       "      <td>34.8</td>\n",
       "      <td>3</td>\n",
       "      <td>Monday</td>\n",
       "      <td>0</td>\n",
       "      <td>winter</td>\n",
       "      <td>0</td>\n",
       "      <td>01-01-2024</td>\n",
       "      <td>5.7018</td>\n",
       "    </tr>\n",
       "    <tr>\n",
       "      <th>1</th>\n",
       "      <td>02-01-2024 10:00</td>\n",
       "      <td>H0094</td>\n",
       "      <td>4</td>\n",
       "      <td>1</td>\n",
       "      <td>0.12</td>\n",
       "      <td>computer</td>\n",
       "      <td>182.4</td>\n",
       "      <td>232.4</td>\n",
       "      <td>0.78</td>\n",
       "      <td>37</td>\n",
       "      <td>...</td>\n",
       "      <td>0.0135</td>\n",
       "      <td>12.4</td>\n",
       "      <td>19.6</td>\n",
       "      <td>1</td>\n",
       "      <td>Tuesday</td>\n",
       "      <td>0</td>\n",
       "      <td>winter</td>\n",
       "      <td>0</td>\n",
       "      <td>02-01-2024</td>\n",
       "      <td>3.1021</td>\n",
       "    </tr>\n",
       "  </tbody>\n",
       "</table>\n",
       "<p>2 rows × 21 columns</p>\n",
       "</div>"
      ],
      "text/plain": [
       "          timestamp household_id  household_size  smart_meter  \\\n",
       "0  01-01-2024 02:00        H0126               5            1   \n",
       "1  02-01-2024 10:00        H0094               4            1   \n",
       "\n",
       "   tariff_per_kwh_usd  appliance  power_watts  voltage_v  current_a  \\\n",
       "0                0.15  microwave       1232.5      229.3       5.37   \n",
       "1                0.12   computer        182.4      232.4       0.78   \n",
       "\n",
       "   duration_minutes  ...  cost_usd  room_temp_c  outside_temp_c  \\\n",
       "0                73  ...    0.2249         25.7            34.8   \n",
       "1                37  ...    0.0135         12.4            19.6   \n",
       "\n",
       "   occupancy_count  day_of_week is_weekend  season holiday_flag        date  \\\n",
       "0                3       Monday          0  winter            0  01-01-2024   \n",
       "1                1      Tuesday          0  winter            0  02-01-2024   \n",
       "\n",
       "  daily_cumulative_kwh  \n",
       "0               5.7018  \n",
       "1               3.1021  \n",
       "\n",
       "[2 rows x 21 columns]"
      ]
     },
     "execution_count": 4,
     "metadata": {},
     "output_type": "execute_result"
    }
   ],
   "source": [
    "df2.head(2)"
   ]
  },
  {
   "cell_type": "code",
   "execution_count": 5,
   "id": "36de5909-fa0d-4015-be66-8fae2dc45776",
   "metadata": {},
   "outputs": [
    {
     "name": "stdout",
     "output_type": "stream",
     "text": [
      "<class 'pandas.core.frame.DataFrame'>\n",
      "RangeIndex: 51 entries, 0 to 50\n",
      "Data columns (total 21 columns):\n",
      " #   Column                Non-Null Count  Dtype  \n",
      "---  ------                --------------  -----  \n",
      " 0   timestamp             51 non-null     object \n",
      " 1   household_id          51 non-null     object \n",
      " 2   household_size        51 non-null     int64  \n",
      " 3   smart_meter           51 non-null     int64  \n",
      " 4   tariff_per_kwh_usd    51 non-null     float64\n",
      " 5   appliance             51 non-null     object \n",
      " 6   power_watts           51 non-null     float64\n",
      " 7   voltage_v             51 non-null     float64\n",
      " 8   current_a             51 non-null     float64\n",
      " 9   duration_minutes      51 non-null     int64  \n",
      " 10  energy_kwh            51 non-null     float64\n",
      " 11  cost_usd              51 non-null     float64\n",
      " 12  room_temp_c           51 non-null     float64\n",
      " 13  outside_temp_c        51 non-null     float64\n",
      " 14  occupancy_count       51 non-null     int64  \n",
      " 15  day_of_week           51 non-null     object \n",
      " 16  is_weekend            51 non-null     int64  \n",
      " 17  season                51 non-null     object \n",
      " 18  holiday_flag          51 non-null     int64  \n",
      " 19  date                  51 non-null     object \n",
      " 20  daily_cumulative_kwh  51 non-null     float64\n",
      "dtypes: float64(9), int64(6), object(6)\n",
      "memory usage: 8.5+ KB\n"
     ]
    }
   ],
   "source": [
    "df2.info()"
   ]
  },
  {
   "cell_type": "code",
   "execution_count": 6,
   "id": "d46a8df4-faf6-4dd4-8760-5c98ad6a923d",
   "metadata": {},
   "outputs": [
    {
     "data": {
      "text/plain": [
       "timestamp               0\n",
       "household_id            0\n",
       "household_size          0\n",
       "smart_meter             0\n",
       "tariff_per_kwh_usd      0\n",
       "appliance               0\n",
       "power_watts             0\n",
       "voltage_v               0\n",
       "current_a               0\n",
       "duration_minutes        0\n",
       "energy_kwh              0\n",
       "cost_usd                0\n",
       "room_temp_c             0\n",
       "outside_temp_c          0\n",
       "occupancy_count         0\n",
       "day_of_week             0\n",
       "is_weekend              0\n",
       "season                  0\n",
       "holiday_flag            0\n",
       "date                    0\n",
       "daily_cumulative_kwh    0\n",
       "dtype: int64"
      ]
     },
     "execution_count": 6,
     "metadata": {},
     "output_type": "execute_result"
    }
   ],
   "source": [
    "df2.isnull().sum()"
   ]
  },
  {
   "cell_type": "code",
   "execution_count": 7,
   "id": "51c8a83d-06fb-4d23-9e78-80c9456b6dc9",
   "metadata": {},
   "outputs": [],
   "source": [
    "#selecection\n",
    "x=df2[[\"power_watts\",\"voltage_v\",\"current_a\"]]\n",
    "y=df2[\"smart_meter\"]"
   ]
  },
  {
   "cell_type": "code",
   "execution_count": 22,
   "id": "14889c67-c696-42eb-a49f-59bda7ff140f",
   "metadata": {},
   "outputs": [],
   "source": [
    "#split\n",
    "from sklearn.model_selection import train_test_split\n",
    "x_train,x_test,y_train,y_test=train_test_split(x,y,\n",
    "                                              test_size=0.25,\n",
    "                                              random_state=43)"
   ]
  },
  {
   "cell_type": "code",
   "execution_count": 23,
   "id": "6b72056e-aaa4-4a6e-8a0f-1135457baae6",
   "metadata": {},
   "outputs": [],
   "source": [
    "#model\n",
    "from sklearn.linear_model import LogisticRegression\n",
    "model_lr=LogisticRegression(max_iter=750)\n",
    "model_lr_fit=model_lr.fit(x_train,y_train)"
   ]
  },
  {
   "cell_type": "code",
   "execution_count": 24,
   "id": "20a512e6-5fc5-404e-aa4e-5d185f87efa5",
   "metadata": {},
   "outputs": [],
   "source": [
    "#model predection\n",
    "y_pred=model_lr_fit.predict(x_test)"
   ]
  },
  {
   "cell_type": "code",
   "execution_count": 25,
   "id": "0ee8e549-f8e1-41e6-b712-2271feba8bda",
   "metadata": {},
   "outputs": [],
   "source": [
    "#model evaluation\n",
    "from sklearn.metrics import confusion_matrix, classification_report, ConfusionMatrixDisplay"
   ]
  },
  {
   "cell_type": "code",
   "execution_count": 26,
   "id": "323dd4ea-25a8-4e33-ac2b-381cd5cb0014",
   "metadata": {},
   "outputs": [
    {
     "name": "stdout",
     "output_type": "stream",
     "text": [
      "[[0 4]\n",
      " [2 7]]\n"
     ]
    }
   ],
   "source": [
    "model_cm=confusion_matrix(y_test,y_pred)\n",
    "print(model_cm)"
   ]
  },
  {
   "cell_type": "code",
   "execution_count": 27,
   "id": "0d023973-119a-44a3-8cd8-d137b440fc8c",
   "metadata": {},
   "outputs": [
    {
     "name": "stdout",
     "output_type": "stream",
     "text": [
      "              precision    recall  f1-score   support\n",
      "\n",
      "           0       0.00      0.00      0.00         4\n",
      "           1       0.64      0.78      0.70         9\n",
      "\n",
      "    accuracy                           0.54        13\n",
      "   macro avg       0.32      0.39      0.35        13\n",
      "weighted avg       0.44      0.54      0.48        13\n",
      "\n"
     ]
    }
   ],
   "source": [
    "model_report=classification_report(y_test,y_pred)\n",
    "print(model_report)"
   ]
  },
  {
   "cell_type": "code",
   "execution_count": 28,
   "id": "b17ecd85-10e3-488e-968c-b16b40ac365a",
   "metadata": {},
   "outputs": [],
   "source": [
    "from sklearn.metrics import roc_curve,roc_auc_score"
   ]
  },
  {
   "cell_type": "code",
   "execution_count": 31,
   "id": "72703f9c-3ac5-474a-b11c-5ada17a484cc",
   "metadata": {},
   "outputs": [],
   "source": [
    "y_probs=model_lr_fit.predict_proba(x_test)[:,1]\n",
    "fpr,tpr,thresholds=roc_curve(y_test,y_probs)\n",
    "auc_score=roc_auc_score(y_test,y_probs)"
   ]
  },
  {
   "cell_type": "code",
   "execution_count": 32,
   "id": "59d29154-4587-4122-8ea4-b70956bb4696",
   "metadata": {},
   "outputs": [
    {
     "name": "stdout",
     "output_type": "stream",
     "text": [
      "AUC:0.417\n"
     ]
    }
   ],
   "source": [
    "print(f\"AUC:{auc_score:.3f}\")"
   ]
  },
  {
   "cell_type": "code",
   "execution_count": 37,
   "id": "e927369a-a10b-4d66-b22c-0de80d530935",
   "metadata": {},
   "outputs": [
    {
     "data": {
      "image/png": "[encoded data removed]",
      "text/plain": [
       "<Figure size 640x480 with 1 Axes>"
      ]
     },
     "metadata": {},
     "output_type": "display_data"
    }
   ],
   "source": [
    "import matplotlib.pyplot as plt\n",
    "plt.plot(fpr,tpr,marker=\"*\",label=(\"Logstic-AUC=%3f\") %auc_score)\n",
    "plt.plot([0,1],[0,1],label=\"Smart Meter\", linestyle=\"--\")\n",
    "plt.xlabel(\"FPR\")\n",
    "plt.ylabel(\"TPR\")\n",
    "plt.title(\"ROC CURVE\")\n",
    "plt.legend()\n",
    "plt.show()"
   ]
  }
 ],
 "metadata": {
  "kernelspec": {
   "display_name": "Python 3 (ipykernel)",
   "language": "python",
   "name": "python3"
  },
  "language_info": {
   "codemirror_mode": {
    "name": "ipython",
    "version": 3
   },
   "file_extension": ".py",
   "mimetype": "text/x-python",
   "name": "python",
   "nbconvert_exporter": "python",
   "pygments_lexer": "ipython3",
   "version": "3.13.5"
  }
 },
 "nbformat": 4,
 "nbformat_minor": 5
}
